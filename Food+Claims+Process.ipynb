{
 "cells": [
  {
   "cell_type": "code",
   "execution_count": 1,
   "id": "37321af3",
   "metadata": {},
   "outputs": [],
   "source": [
    "## ASSOCIATE D.A. CASE STUDY (DATACAMP)"
   ]
  },
  {
   "cell_type": "code",
   "execution_count": 2,
   "id": "1e7036b8",
   "metadata": {},
   "outputs": [],
   "source": [
    "# Set up the notebook"
   ]
  },
  {
   "cell_type": "code",
   "execution_count": 3,
   "id": "50e0064a",
   "metadata": {},
   "outputs": [
    {
     "name": "stdout",
     "output_type": "stream",
     "text": [
      "Setup Complete\n"
     ]
    }
   ],
   "source": [
    "import pandas as pd\n",
    "pd.plotting.register_matplotlib_converters()\n",
    "import matplotlib.pyplot as plt\n",
    "%matplotlib inline\n",
    "import seaborn as sns\n",
    "print('Setup Complete')"
   ]
  },
  {
   "cell_type": "code",
   "execution_count": 4,
   "id": "3f328ade",
   "metadata": {},
   "outputs": [],
   "source": [
    "# Path on the file to read\n",
    "claims_filepath = \"C:/Users/User/Desktop/Data Analyst/Datacamp/Certificates/Career Track/Data Analyst Associate/claims.csv\""
   ]
  },
  {
   "cell_type": "code",
   "execution_count": 5,
   "id": "77066398",
   "metadata": {},
   "outputs": [],
   "source": [
    "# Read the file into a variable claims\n",
    "claims = pd.read_csv(claims_filepath)"
   ]
  },
  {
   "cell_type": "code",
   "execution_count": 6,
   "id": "7a74b837",
   "metadata": {},
   "outputs": [],
   "source": [
    "## Examine the data"
   ]
  },
  {
   "cell_type": "code",
   "execution_count": 7,
   "id": "c9b86f77",
   "metadata": {},
   "outputs": [
    {
     "data": {
      "text/html": [
       "<div>\n",
       "<style scoped>\n",
       "    .dataframe tbody tr th:only-of-type {\n",
       "        vertical-align: middle;\n",
       "    }\n",
       "\n",
       "    .dataframe tbody tr th {\n",
       "        vertical-align: top;\n",
       "    }\n",
       "\n",
       "    .dataframe thead th {\n",
       "        text-align: right;\n",
       "    }\n",
       "</style>\n",
       "<table border=\"1\" class=\"dataframe\">\n",
       "  <thead>\n",
       "    <tr style=\"text-align: right;\">\n",
       "      <th></th>\n",
       "      <th>Claim ID</th>\n",
       "      <th>Time to Close</th>\n",
       "      <th>Claim Amount</th>\n",
       "      <th>Amount Paid</th>\n",
       "      <th>Location</th>\n",
       "      <th>Individuals on Claim</th>\n",
       "      <th>Linked Cases</th>\n",
       "      <th>Cause</th>\n",
       "    </tr>\n",
       "  </thead>\n",
       "  <tbody>\n",
       "    <tr>\n",
       "      <th>0</th>\n",
       "      <td>0000000-00.2010.0.00.0094</td>\n",
       "      <td>2082</td>\n",
       "      <td>R$50,000.00</td>\n",
       "      <td>34297.47</td>\n",
       "      <td>RECIFE</td>\n",
       "      <td>2</td>\n",
       "      <td>False</td>\n",
       "      <td>NaN</td>\n",
       "    </tr>\n",
       "    <tr>\n",
       "      <th>1</th>\n",
       "      <td>0000000-00.2011.0.00.0086</td>\n",
       "      <td>3591</td>\n",
       "      <td>R$180,000.00</td>\n",
       "      <td>56383.54</td>\n",
       "      <td>SAO LUIS</td>\n",
       "      <td>7</td>\n",
       "      <td>False</td>\n",
       "      <td>NaN</td>\n",
       "    </tr>\n",
       "    <tr>\n",
       "      <th>2</th>\n",
       "      <td>0000000-00.2012.0.00.0092</td>\n",
       "      <td>2997</td>\n",
       "      <td>R$70,000.00</td>\n",
       "      <td>12366.76</td>\n",
       "      <td>SAO LUIS</td>\n",
       "      <td>3</td>\n",
       "      <td>False</td>\n",
       "      <td>vegetables</td>\n",
       "    </tr>\n",
       "    <tr>\n",
       "      <th>3</th>\n",
       "      <td>0000000-00.2013.0.00.0096</td>\n",
       "      <td>1143</td>\n",
       "      <td>R$95,104.00</td>\n",
       "      <td>29217.16</td>\n",
       "      <td>FORTALEZA</td>\n",
       "      <td>4</td>\n",
       "      <td>False</td>\n",
       "      <td>NaN</td>\n",
       "    </tr>\n",
       "    <tr>\n",
       "      <th>4</th>\n",
       "      <td>0000000-00.2014.0.00.0097</td>\n",
       "      <td>117</td>\n",
       "      <td>R$29,000.00</td>\n",
       "      <td>12610.50</td>\n",
       "      <td>FORTALEZA</td>\n",
       "      <td>1</td>\n",
       "      <td>False</td>\n",
       "      <td>meat</td>\n",
       "    </tr>\n",
       "  </tbody>\n",
       "</table>\n",
       "</div>"
      ],
      "text/plain": [
       "                    Claim ID  Time to Close  Claim Amount  Amount Paid  \\\n",
       "0  0000000-00.2010.0.00.0094           2082   R$50,000.00     34297.47   \n",
       "1  0000000-00.2011.0.00.0086           3591  R$180,000.00     56383.54   \n",
       "2  0000000-00.2012.0.00.0092           2997   R$70,000.00     12366.76   \n",
       "3  0000000-00.2013.0.00.0096           1143   R$95,104.00     29217.16   \n",
       "4  0000000-00.2014.0.00.0097            117   R$29,000.00     12610.50   \n",
       "\n",
       "    Location  Individuals on Claim  Linked Cases       Cause  \n",
       "0     RECIFE                     2         False         NaN  \n",
       "1   SAO LUIS                     7         False         NaN  \n",
       "2   SAO LUIS                     3         False  vegetables  \n",
       "3  FORTALEZA                     4         False         NaN  \n",
       "4  FORTALEZA                     1         False        meat  "
      ]
     },
     "execution_count": 7,
     "metadata": {},
     "output_type": "execute_result"
    }
   ],
   "source": [
    "# Display the first 5 rows of the data\n",
    "claims.head()"
   ]
  },
  {
   "cell_type": "code",
   "execution_count": 8,
   "id": "57b9ff13",
   "metadata": {},
   "outputs": [
    {
     "data": {
      "text/html": [
       "<div>\n",
       "<style scoped>\n",
       "    .dataframe tbody tr th:only-of-type {\n",
       "        vertical-align: middle;\n",
       "    }\n",
       "\n",
       "    .dataframe tbody tr th {\n",
       "        vertical-align: top;\n",
       "    }\n",
       "\n",
       "    .dataframe thead th {\n",
       "        text-align: right;\n",
       "    }\n",
       "</style>\n",
       "<table border=\"1\" class=\"dataframe\">\n",
       "  <thead>\n",
       "    <tr style=\"text-align: right;\">\n",
       "      <th></th>\n",
       "      <th>Claim ID</th>\n",
       "      <th>Time to Close</th>\n",
       "      <th>Claim Amount</th>\n",
       "      <th>Amount Paid</th>\n",
       "      <th>Location</th>\n",
       "      <th>Individuals on Claim</th>\n",
       "      <th>Linked Cases</th>\n",
       "      <th>Cause</th>\n",
       "    </tr>\n",
       "  </thead>\n",
       "  <tbody>\n",
       "    <tr>\n",
       "      <th>93</th>\n",
       "      <td>0000000-00.2020.0.00.0023</td>\n",
       "      <td>208</td>\n",
       "      <td>R$80,396.00</td>\n",
       "      <td>40668.14</td>\n",
       "      <td>FORTALEZA</td>\n",
       "      <td>3</td>\n",
       "      <td>False</td>\n",
       "      <td>meat</td>\n",
       "    </tr>\n",
       "    <tr>\n",
       "      <th>94</th>\n",
       "      <td>0000000-00.2020.0.00.0057</td>\n",
       "      <td>86</td>\n",
       "      <td>R$50,000.00</td>\n",
       "      <td>8363.96</td>\n",
       "      <td>FORTALEZA</td>\n",
       "      <td>2</td>\n",
       "      <td>False</td>\n",
       "      <td>NaN</td>\n",
       "    </tr>\n",
       "    <tr>\n",
       "      <th>95</th>\n",
       "      <td>0000000-00.2020.0.00.0010</td>\n",
       "      <td>201</td>\n",
       "      <td>R$60,000.00</td>\n",
       "      <td>42318.80</td>\n",
       "      <td>NATAL</td>\n",
       "      <td>2</td>\n",
       "      <td>False</td>\n",
       "      <td>NaN</td>\n",
       "    </tr>\n",
       "    <tr>\n",
       "      <th>96</th>\n",
       "      <td>0000000-00.2020.0.00.0059</td>\n",
       "      <td>200</td>\n",
       "      <td>R$474,542.00</td>\n",
       "      <td>329473.49</td>\n",
       "      <td>NATAL</td>\n",
       "      <td>20</td>\n",
       "      <td>True</td>\n",
       "      <td>NaN</td>\n",
       "    </tr>\n",
       "    <tr>\n",
       "      <th>97</th>\n",
       "      <td>0000000-00.2020.0.00.0073</td>\n",
       "      <td>195</td>\n",
       "      <td>R$40,000.00</td>\n",
       "      <td>15406.95</td>\n",
       "      <td>NATAL</td>\n",
       "      <td>1</td>\n",
       "      <td>False</td>\n",
       "      <td>NaN</td>\n",
       "    </tr>\n",
       "  </tbody>\n",
       "</table>\n",
       "</div>"
      ],
      "text/plain": [
       "                     Claim ID  Time to Close  Claim Amount  Amount Paid  \\\n",
       "93  0000000-00.2020.0.00.0023            208   R$80,396.00     40668.14   \n",
       "94  0000000-00.2020.0.00.0057             86   R$50,000.00      8363.96   \n",
       "95  0000000-00.2020.0.00.0010            201   R$60,000.00     42318.80   \n",
       "96  0000000-00.2020.0.00.0059            200  R$474,542.00    329473.49   \n",
       "97  0000000-00.2020.0.00.0073            195   R$40,000.00     15406.95   \n",
       "\n",
       "     Location  Individuals on Claim  Linked Cases Cause  \n",
       "93  FORTALEZA                     3         False  meat  \n",
       "94  FORTALEZA                     2         False   NaN  \n",
       "95      NATAL                     2         False   NaN  \n",
       "96      NATAL                    20          True   NaN  \n",
       "97      NATAL                     1         False   NaN  "
      ]
     },
     "execution_count": 8,
     "metadata": {},
     "output_type": "execute_result"
    }
   ],
   "source": [
    "# Display the last 5 rows of the data\n",
    "claims.tail()"
   ]
  },
  {
   "cell_type": "code",
   "execution_count": 9,
   "id": "14de8221",
   "metadata": {},
   "outputs": [],
   "source": [
    "## DATA VALIDATION"
   ]
  },
  {
   "cell_type": "code",
   "execution_count": 10,
   "id": "d12ca213",
   "metadata": {},
   "outputs": [
    {
     "name": "stdout",
     "output_type": "stream",
     "text": [
      "<class 'pandas.core.frame.DataFrame'>\n",
      "RangeIndex: 98 entries, 0 to 97\n",
      "Data columns (total 8 columns):\n",
      " #   Column                Non-Null Count  Dtype  \n",
      "---  ------                --------------  -----  \n",
      " 0   Claim ID              98 non-null     object \n",
      " 1   Time to Close         98 non-null     int64  \n",
      " 2   Claim Amount          98 non-null     object \n",
      " 3   Amount Paid           98 non-null     float64\n",
      " 4   Location              98 non-null     object \n",
      " 5   Individuals on Claim  98 non-null     int64  \n",
      " 6   Linked Cases          98 non-null     bool   \n",
      " 7   Cause                 20 non-null     object \n",
      "dtypes: bool(1), float64(1), int64(2), object(4)\n",
      "memory usage: 5.6+ KB\n"
     ]
    }
   ],
   "source": [
    "# Summary of the claims data to inspect\n",
    "claims.info()"
   ]
  },
  {
   "cell_type": "code",
   "execution_count": 11,
   "id": "ef85a275",
   "metadata": {},
   "outputs": [
    {
     "data": {
      "text/plain": [
       "0000000-00.2010.0.00.0094    1\n",
       "0000000-00.2019.0.00.0056    1\n",
       "0000000-00.2019.0.00.0038    1\n",
       "0000000-00.2019.0.00.0033    1\n",
       "0000000-00.2019.0.00.0091    1\n",
       "                            ..\n",
       "0000000-00.2017.0.00.0034    1\n",
       "0000000-00.2017.0.00.0011    1\n",
       "0000000-00.2017.0.00.0031    1\n",
       "0000000-00.2017.0.00.0087    1\n",
       "0000000-00.2020.0.00.0073    1\n",
       "Name: Claim ID, Length: 98, dtype: int64"
      ]
     },
     "execution_count": 11,
     "metadata": {},
     "output_type": "execute_result"
    }
   ],
   "source": [
    "# Let's see if there are duplicates for 'Claim ID' column\n",
    "claims['Claim ID'].value_counts()"
   ]
  },
  {
   "cell_type": "code",
   "execution_count": 12,
   "id": "ae6ab753",
   "metadata": {},
   "outputs": [],
   "source": [
    "## The initial claim value in the currency of Brazil should be converted. Ex: “R$50,000.00” should be converted into 50000.\n",
    "claims['Claim Amount'] = claims['Claim Amount'].str.replace('[R,$]', '', regex=True)"
   ]
  },
  {
   "cell_type": "code",
   "execution_count": 13,
   "id": "9dd34155",
   "metadata": {},
   "outputs": [
    {
     "data": {
      "text/html": [
       "<div>\n",
       "<style scoped>\n",
       "    .dataframe tbody tr th:only-of-type {\n",
       "        vertical-align: middle;\n",
       "    }\n",
       "\n",
       "    .dataframe tbody tr th {\n",
       "        vertical-align: top;\n",
       "    }\n",
       "\n",
       "    .dataframe thead th {\n",
       "        text-align: right;\n",
       "    }\n",
       "</style>\n",
       "<table border=\"1\" class=\"dataframe\">\n",
       "  <thead>\n",
       "    <tr style=\"text-align: right;\">\n",
       "      <th></th>\n",
       "      <th>Claim ID</th>\n",
       "      <th>Time to Close</th>\n",
       "      <th>Claim Amount</th>\n",
       "      <th>Amount Paid</th>\n",
       "      <th>Location</th>\n",
       "      <th>Individuals on Claim</th>\n",
       "      <th>Linked Cases</th>\n",
       "      <th>Cause</th>\n",
       "    </tr>\n",
       "  </thead>\n",
       "  <tbody>\n",
       "    <tr>\n",
       "      <th>0</th>\n",
       "      <td>0000000-00.2010.0.00.0094</td>\n",
       "      <td>2082</td>\n",
       "      <td>50000.00</td>\n",
       "      <td>34297.47</td>\n",
       "      <td>RECIFE</td>\n",
       "      <td>2</td>\n",
       "      <td>False</td>\n",
       "      <td>NaN</td>\n",
       "    </tr>\n",
       "    <tr>\n",
       "      <th>1</th>\n",
       "      <td>0000000-00.2011.0.00.0086</td>\n",
       "      <td>3591</td>\n",
       "      <td>180000.00</td>\n",
       "      <td>56383.54</td>\n",
       "      <td>SAO LUIS</td>\n",
       "      <td>7</td>\n",
       "      <td>False</td>\n",
       "      <td>NaN</td>\n",
       "    </tr>\n",
       "    <tr>\n",
       "      <th>2</th>\n",
       "      <td>0000000-00.2012.0.00.0092</td>\n",
       "      <td>2997</td>\n",
       "      <td>70000.00</td>\n",
       "      <td>12366.76</td>\n",
       "      <td>SAO LUIS</td>\n",
       "      <td>3</td>\n",
       "      <td>False</td>\n",
       "      <td>vegetables</td>\n",
       "    </tr>\n",
       "    <tr>\n",
       "      <th>3</th>\n",
       "      <td>0000000-00.2013.0.00.0096</td>\n",
       "      <td>1143</td>\n",
       "      <td>95104.00</td>\n",
       "      <td>29217.16</td>\n",
       "      <td>FORTALEZA</td>\n",
       "      <td>4</td>\n",
       "      <td>False</td>\n",
       "      <td>NaN</td>\n",
       "    </tr>\n",
       "    <tr>\n",
       "      <th>4</th>\n",
       "      <td>0000000-00.2014.0.00.0097</td>\n",
       "      <td>117</td>\n",
       "      <td>29000.00</td>\n",
       "      <td>12610.50</td>\n",
       "      <td>FORTALEZA</td>\n",
       "      <td>1</td>\n",
       "      <td>False</td>\n",
       "      <td>meat</td>\n",
       "    </tr>\n",
       "    <tr>\n",
       "      <th>...</th>\n",
       "      <td>...</td>\n",
       "      <td>...</td>\n",
       "      <td>...</td>\n",
       "      <td>...</td>\n",
       "      <td>...</td>\n",
       "      <td>...</td>\n",
       "      <td>...</td>\n",
       "      <td>...</td>\n",
       "    </tr>\n",
       "    <tr>\n",
       "      <th>93</th>\n",
       "      <td>0000000-00.2020.0.00.0023</td>\n",
       "      <td>208</td>\n",
       "      <td>80396.00</td>\n",
       "      <td>40668.14</td>\n",
       "      <td>FORTALEZA</td>\n",
       "      <td>3</td>\n",
       "      <td>False</td>\n",
       "      <td>meat</td>\n",
       "    </tr>\n",
       "    <tr>\n",
       "      <th>94</th>\n",
       "      <td>0000000-00.2020.0.00.0057</td>\n",
       "      <td>86</td>\n",
       "      <td>50000.00</td>\n",
       "      <td>8363.96</td>\n",
       "      <td>FORTALEZA</td>\n",
       "      <td>2</td>\n",
       "      <td>False</td>\n",
       "      <td>NaN</td>\n",
       "    </tr>\n",
       "    <tr>\n",
       "      <th>95</th>\n",
       "      <td>0000000-00.2020.0.00.0010</td>\n",
       "      <td>201</td>\n",
       "      <td>60000.00</td>\n",
       "      <td>42318.80</td>\n",
       "      <td>NATAL</td>\n",
       "      <td>2</td>\n",
       "      <td>False</td>\n",
       "      <td>NaN</td>\n",
       "    </tr>\n",
       "    <tr>\n",
       "      <th>96</th>\n",
       "      <td>0000000-00.2020.0.00.0059</td>\n",
       "      <td>200</td>\n",
       "      <td>474542.00</td>\n",
       "      <td>329473.49</td>\n",
       "      <td>NATAL</td>\n",
       "      <td>20</td>\n",
       "      <td>True</td>\n",
       "      <td>NaN</td>\n",
       "    </tr>\n",
       "    <tr>\n",
       "      <th>97</th>\n",
       "      <td>0000000-00.2020.0.00.0073</td>\n",
       "      <td>195</td>\n",
       "      <td>40000.00</td>\n",
       "      <td>15406.95</td>\n",
       "      <td>NATAL</td>\n",
       "      <td>1</td>\n",
       "      <td>False</td>\n",
       "      <td>NaN</td>\n",
       "    </tr>\n",
       "  </tbody>\n",
       "</table>\n",
       "<p>98 rows × 8 columns</p>\n",
       "</div>"
      ],
      "text/plain": [
       "                     Claim ID  Time to Close Claim Amount  Amount Paid  \\\n",
       "0   0000000-00.2010.0.00.0094           2082     50000.00     34297.47   \n",
       "1   0000000-00.2011.0.00.0086           3591    180000.00     56383.54   \n",
       "2   0000000-00.2012.0.00.0092           2997     70000.00     12366.76   \n",
       "3   0000000-00.2013.0.00.0096           1143     95104.00     29217.16   \n",
       "4   0000000-00.2014.0.00.0097            117     29000.00     12610.50   \n",
       "..                        ...            ...          ...          ...   \n",
       "93  0000000-00.2020.0.00.0023            208     80396.00     40668.14   \n",
       "94  0000000-00.2020.0.00.0057             86     50000.00      8363.96   \n",
       "95  0000000-00.2020.0.00.0010            201     60000.00     42318.80   \n",
       "96  0000000-00.2020.0.00.0059            200    474542.00    329473.49   \n",
       "97  0000000-00.2020.0.00.0073            195     40000.00     15406.95   \n",
       "\n",
       "     Location  Individuals on Claim  Linked Cases       Cause  \n",
       "0      RECIFE                     2         False         NaN  \n",
       "1    SAO LUIS                     7         False         NaN  \n",
       "2    SAO LUIS                     3         False  vegetables  \n",
       "3   FORTALEZA                     4         False         NaN  \n",
       "4   FORTALEZA                     1         False        meat  \n",
       "..        ...                   ...           ...         ...  \n",
       "93  FORTALEZA                     3         False        meat  \n",
       "94  FORTALEZA                     2         False         NaN  \n",
       "95      NATAL                     2         False         NaN  \n",
       "96      NATAL                    20          True         NaN  \n",
       "97      NATAL                     1         False         NaN  \n",
       "\n",
       "[98 rows x 8 columns]"
      ]
     },
     "execution_count": 13,
     "metadata": {},
     "output_type": "execute_result"
    }
   ],
   "source": [
    "# Let's see the change\n",
    "claims"
   ]
  },
  {
   "cell_type": "code",
   "execution_count": 14,
   "id": "a15491f9",
   "metadata": {},
   "outputs": [
    {
     "name": "stdout",
     "output_type": "stream",
     "text": [
      "Shape:  (98, 8)\n"
     ]
    }
   ],
   "source": [
    "# Let's see the shape of the df\n",
    "print('Shape: ', claims.shape)"
   ]
  },
  {
   "cell_type": "code",
   "execution_count": 15,
   "id": "ef4bbfdc",
   "metadata": {},
   "outputs": [
    {
     "data": {
      "text/plain": [
       "-57"
      ]
     },
     "execution_count": 15,
     "metadata": {},
     "output_type": "execute_result"
    }
   ],
   "source": [
    "# Let's see which is the minimun time to close a claim\n",
    "claims['Time to Close'].min()"
   ]
  },
  {
   "cell_type": "code",
   "execution_count": 16,
   "id": "dfe83411",
   "metadata": {},
   "outputs": [
    {
     "data": {
      "text/html": [
       "<div>\n",
       "<style scoped>\n",
       "    .dataframe tbody tr th:only-of-type {\n",
       "        vertical-align: middle;\n",
       "    }\n",
       "\n",
       "    .dataframe tbody tr th {\n",
       "        vertical-align: top;\n",
       "    }\n",
       "\n",
       "    .dataframe thead th {\n",
       "        text-align: right;\n",
       "    }\n",
       "</style>\n",
       "<table border=\"1\" class=\"dataframe\">\n",
       "  <thead>\n",
       "    <tr style=\"text-align: right;\">\n",
       "      <th></th>\n",
       "      <th>Claim ID</th>\n",
       "      <th>Time to Close</th>\n",
       "      <th>Claim Amount</th>\n",
       "      <th>Amount Paid</th>\n",
       "      <th>Location</th>\n",
       "      <th>Individuals on Claim</th>\n",
       "      <th>Linked Cases</th>\n",
       "      <th>Cause</th>\n",
       "    </tr>\n",
       "  </thead>\n",
       "  <tbody>\n",
       "    <tr>\n",
       "      <th>58</th>\n",
       "      <td>0000000-00.2019.0.00.0079</td>\n",
       "      <td>-57</td>\n",
       "      <td>3672.00</td>\n",
       "      <td>999.68</td>\n",
       "      <td>SAO LUIS</td>\n",
       "      <td>0</td>\n",
       "      <td>False</td>\n",
       "      <td>NaN</td>\n",
       "    </tr>\n",
       "  </tbody>\n",
       "</table>\n",
       "</div>"
      ],
      "text/plain": [
       "                     Claim ID  Time to Close Claim Amount  Amount Paid  \\\n",
       "58  0000000-00.2019.0.00.0079            -57      3672.00       999.68   \n",
       "\n",
       "    Location  Individuals on Claim  Linked Cases Cause  \n",
       "58  SAO LUIS                     0         False   NaN  "
      ]
     },
     "execution_count": 16,
     "metadata": {},
     "output_type": "execute_result"
    }
   ],
   "source": [
    "claims.iloc[[58]]"
   ]
  },
  {
   "cell_type": "code",
   "execution_count": 17,
   "id": "3dcb59b5",
   "metadata": {},
   "outputs": [],
   "source": [
    "# Find the row index of the negative value\n",
    "index= claims[claims['Time to Close'] < 0].index"
   ]
  },
  {
   "cell_type": "code",
   "execution_count": 18,
   "id": "962bbf09",
   "metadata": {},
   "outputs": [],
   "source": [
    "# Drop this row from the df\n",
    "claims.drop(index, inplace=True)"
   ]
  },
  {
   "cell_type": "code",
   "execution_count": 19,
   "id": "6649c5e1",
   "metadata": {},
   "outputs": [
    {
     "data": {
      "text/html": [
       "<div>\n",
       "<style scoped>\n",
       "    .dataframe tbody tr th:only-of-type {\n",
       "        vertical-align: middle;\n",
       "    }\n",
       "\n",
       "    .dataframe tbody tr th {\n",
       "        vertical-align: top;\n",
       "    }\n",
       "\n",
       "    .dataframe thead th {\n",
       "        text-align: right;\n",
       "    }\n",
       "</style>\n",
       "<table border=\"1\" class=\"dataframe\">\n",
       "  <thead>\n",
       "    <tr style=\"text-align: right;\">\n",
       "      <th></th>\n",
       "      <th>Claim ID</th>\n",
       "      <th>Time to Close</th>\n",
       "      <th>Claim Amount</th>\n",
       "      <th>Amount Paid</th>\n",
       "      <th>Location</th>\n",
       "      <th>Individuals on Claim</th>\n",
       "      <th>Linked Cases</th>\n",
       "      <th>Cause</th>\n",
       "    </tr>\n",
       "  </thead>\n",
       "  <tbody>\n",
       "    <tr>\n",
       "      <th>0</th>\n",
       "      <td>0000000-00.2010.0.00.0094</td>\n",
       "      <td>2082</td>\n",
       "      <td>50000.00</td>\n",
       "      <td>34297.47</td>\n",
       "      <td>RECIFE</td>\n",
       "      <td>2</td>\n",
       "      <td>False</td>\n",
       "      <td>NaN</td>\n",
       "    </tr>\n",
       "    <tr>\n",
       "      <th>1</th>\n",
       "      <td>0000000-00.2011.0.00.0086</td>\n",
       "      <td>3591</td>\n",
       "      <td>180000.00</td>\n",
       "      <td>56383.54</td>\n",
       "      <td>SAO LUIS</td>\n",
       "      <td>7</td>\n",
       "      <td>False</td>\n",
       "      <td>NaN</td>\n",
       "    </tr>\n",
       "    <tr>\n",
       "      <th>2</th>\n",
       "      <td>0000000-00.2012.0.00.0092</td>\n",
       "      <td>2997</td>\n",
       "      <td>70000.00</td>\n",
       "      <td>12366.76</td>\n",
       "      <td>SAO LUIS</td>\n",
       "      <td>3</td>\n",
       "      <td>False</td>\n",
       "      <td>vegetables</td>\n",
       "    </tr>\n",
       "    <tr>\n",
       "      <th>3</th>\n",
       "      <td>0000000-00.2013.0.00.0096</td>\n",
       "      <td>1143</td>\n",
       "      <td>95104.00</td>\n",
       "      <td>29217.16</td>\n",
       "      <td>FORTALEZA</td>\n",
       "      <td>4</td>\n",
       "      <td>False</td>\n",
       "      <td>NaN</td>\n",
       "    </tr>\n",
       "    <tr>\n",
       "      <th>4</th>\n",
       "      <td>0000000-00.2014.0.00.0097</td>\n",
       "      <td>117</td>\n",
       "      <td>29000.00</td>\n",
       "      <td>12610.50</td>\n",
       "      <td>FORTALEZA</td>\n",
       "      <td>1</td>\n",
       "      <td>False</td>\n",
       "      <td>meat</td>\n",
       "    </tr>\n",
       "    <tr>\n",
       "      <th>...</th>\n",
       "      <td>...</td>\n",
       "      <td>...</td>\n",
       "      <td>...</td>\n",
       "      <td>...</td>\n",
       "      <td>...</td>\n",
       "      <td>...</td>\n",
       "      <td>...</td>\n",
       "      <td>...</td>\n",
       "    </tr>\n",
       "    <tr>\n",
       "      <th>93</th>\n",
       "      <td>0000000-00.2020.0.00.0023</td>\n",
       "      <td>208</td>\n",
       "      <td>80396.00</td>\n",
       "      <td>40668.14</td>\n",
       "      <td>FORTALEZA</td>\n",
       "      <td>3</td>\n",
       "      <td>False</td>\n",
       "      <td>meat</td>\n",
       "    </tr>\n",
       "    <tr>\n",
       "      <th>94</th>\n",
       "      <td>0000000-00.2020.0.00.0057</td>\n",
       "      <td>86</td>\n",
       "      <td>50000.00</td>\n",
       "      <td>8363.96</td>\n",
       "      <td>FORTALEZA</td>\n",
       "      <td>2</td>\n",
       "      <td>False</td>\n",
       "      <td>NaN</td>\n",
       "    </tr>\n",
       "    <tr>\n",
       "      <th>95</th>\n",
       "      <td>0000000-00.2020.0.00.0010</td>\n",
       "      <td>201</td>\n",
       "      <td>60000.00</td>\n",
       "      <td>42318.80</td>\n",
       "      <td>NATAL</td>\n",
       "      <td>2</td>\n",
       "      <td>False</td>\n",
       "      <td>NaN</td>\n",
       "    </tr>\n",
       "    <tr>\n",
       "      <th>96</th>\n",
       "      <td>0000000-00.2020.0.00.0059</td>\n",
       "      <td>200</td>\n",
       "      <td>474542.00</td>\n",
       "      <td>329473.49</td>\n",
       "      <td>NATAL</td>\n",
       "      <td>20</td>\n",
       "      <td>True</td>\n",
       "      <td>NaN</td>\n",
       "    </tr>\n",
       "    <tr>\n",
       "      <th>97</th>\n",
       "      <td>0000000-00.2020.0.00.0073</td>\n",
       "      <td>195</td>\n",
       "      <td>40000.00</td>\n",
       "      <td>15406.95</td>\n",
       "      <td>NATAL</td>\n",
       "      <td>1</td>\n",
       "      <td>False</td>\n",
       "      <td>NaN</td>\n",
       "    </tr>\n",
       "  </tbody>\n",
       "</table>\n",
       "<p>97 rows × 8 columns</p>\n",
       "</div>"
      ],
      "text/plain": [
       "                     Claim ID  Time to Close Claim Amount  Amount Paid  \\\n",
       "0   0000000-00.2010.0.00.0094           2082     50000.00     34297.47   \n",
       "1   0000000-00.2011.0.00.0086           3591    180000.00     56383.54   \n",
       "2   0000000-00.2012.0.00.0092           2997     70000.00     12366.76   \n",
       "3   0000000-00.2013.0.00.0096           1143     95104.00     29217.16   \n",
       "4   0000000-00.2014.0.00.0097            117     29000.00     12610.50   \n",
       "..                        ...            ...          ...          ...   \n",
       "93  0000000-00.2020.0.00.0023            208     80396.00     40668.14   \n",
       "94  0000000-00.2020.0.00.0057             86     50000.00      8363.96   \n",
       "95  0000000-00.2020.0.00.0010            201     60000.00     42318.80   \n",
       "96  0000000-00.2020.0.00.0059            200    474542.00    329473.49   \n",
       "97  0000000-00.2020.0.00.0073            195     40000.00     15406.95   \n",
       "\n",
       "     Location  Individuals on Claim  Linked Cases       Cause  \n",
       "0      RECIFE                     2         False         NaN  \n",
       "1    SAO LUIS                     7         False         NaN  \n",
       "2    SAO LUIS                     3         False  vegetables  \n",
       "3   FORTALEZA                     4         False         NaN  \n",
       "4   FORTALEZA                     1         False        meat  \n",
       "..        ...                   ...           ...         ...  \n",
       "93  FORTALEZA                     3         False        meat  \n",
       "94  FORTALEZA                     2         False         NaN  \n",
       "95      NATAL                     2         False         NaN  \n",
       "96      NATAL                    20          True         NaN  \n",
       "97      NATAL                     1         False         NaN  \n",
       "\n",
       "[97 rows x 8 columns]"
      ]
     },
     "execution_count": 19,
     "metadata": {},
     "output_type": "execute_result"
    }
   ],
   "source": [
    "claims"
   ]
  },
  {
   "cell_type": "code",
   "execution_count": 20,
   "id": "0601e8d0",
   "metadata": {},
   "outputs": [
    {
     "data": {
      "text/plain": [
       "120     3\n",
       "2082    1\n",
       "662     1\n",
       "473     1\n",
       "479     1\n",
       "       ..\n",
       "1177    1\n",
       "1164    1\n",
       "1169    1\n",
       "1178    1\n",
       "195     1\n",
       "Name: Time to Close, Length: 95, dtype: int64"
      ]
     },
     "execution_count": 20,
     "metadata": {},
     "output_type": "execute_result"
    }
   ],
   "source": [
    "# Let's inspect the 'Time to Close' column\n",
    "claims['Time to Close'].value_counts()"
   ]
  },
  {
   "cell_type": "code",
   "execution_count": 21,
   "id": "b7c005ab",
   "metadata": {},
   "outputs": [
    {
     "data": {
      "text/plain": [
       "29"
      ]
     },
     "execution_count": 21,
     "metadata": {},
     "output_type": "execute_result"
    }
   ],
   "source": [
    "# Let's see again which is the minimum time \n",
    "claims['Time to Close'].min()"
   ]
  },
  {
   "cell_type": "code",
   "execution_count": 22,
   "id": "a5b7fe18",
   "metadata": {},
   "outputs": [
    {
     "data": {
      "text/plain": [
       "3591"
      ]
     },
     "execution_count": 22,
     "metadata": {},
     "output_type": "execute_result"
    }
   ],
   "source": [
    "# Now, let's see which is the maximum time\n",
    "claims['Time to Close'].max()"
   ]
  },
  {
   "cell_type": "code",
   "execution_count": 23,
   "id": "d60f4769",
   "metadata": {},
   "outputs": [],
   "source": [
    "# Convert the dtype from 'object' to 'float64'\n",
    "claims['Claim Amount'] = claims['Claim Amount'].astype('float64')"
   ]
  },
  {
   "cell_type": "code",
   "execution_count": 24,
   "id": "24953752",
   "metadata": {},
   "outputs": [
    {
     "name": "stdout",
     "output_type": "stream",
     "text": [
      "<class 'pandas.core.frame.DataFrame'>\n",
      "Int64Index: 97 entries, 0 to 97\n",
      "Data columns (total 8 columns):\n",
      " #   Column                Non-Null Count  Dtype  \n",
      "---  ------                --------------  -----  \n",
      " 0   Claim ID              97 non-null     object \n",
      " 1   Time to Close         97 non-null     int64  \n",
      " 2   Claim Amount          97 non-null     float64\n",
      " 3   Amount Paid           97 non-null     float64\n",
      " 4   Location              97 non-null     object \n",
      " 5   Individuals on Claim  97 non-null     int64  \n",
      " 6   Linked Cases          97 non-null     bool   \n",
      " 7   Cause                 20 non-null     object \n",
      "dtypes: bool(1), float64(2), int64(2), object(3)\n",
      "memory usage: 6.2+ KB\n"
     ]
    }
   ],
   "source": [
    "claims.info()"
   ]
  },
  {
   "cell_type": "code",
   "execution_count": 25,
   "id": "063f983b",
   "metadata": {},
   "outputs": [
    {
     "data": {
      "text/plain": [
       "34297.47     1\n",
       "22701.02     1\n",
       "11239.91     1\n",
       "8205.71      1\n",
       "52374.98     1\n",
       "            ..\n",
       "17349.58     1\n",
       "164058.23    1\n",
       "119084.55    1\n",
       "28939.57     1\n",
       "15406.95     1\n",
       "Name: Amount Paid, Length: 97, dtype: int64"
      ]
     },
     "execution_count": 25,
     "metadata": {},
     "output_type": "execute_result"
    }
   ],
   "source": [
    "# Let's see the amount paid per claim\n",
    "claims['Amount Paid'].value_counts()"
   ]
  },
  {
   "cell_type": "code",
   "execution_count": 26,
   "id": "c53f50f1",
   "metadata": {},
   "outputs": [
    {
     "data": {
      "text/plain": [
       "False    88\n",
       "True      9\n",
       "Name: Linked Cases, dtype: int64"
      ]
     },
     "execution_count": 26,
     "metadata": {},
     "output_type": "execute_result"
    }
   ],
   "source": [
    "# Let's see how many claims are believed to be linked\n",
    "claims['Linked Cases'].value_counts()"
   ]
  },
  {
   "cell_type": "code",
   "execution_count": 27,
   "id": "bebd6bda",
   "metadata": {},
   "outputs": [
    {
     "data": {
      "text/plain": [
       "SAO LUIS     29\n",
       "RECIFE       25\n",
       "FORTALEZA    22\n",
       "NATAL        21\n",
       "Name: Location, dtype: int64"
      ]
     },
     "execution_count": 27,
     "metadata": {},
     "output_type": "execute_result"
    }
   ],
   "source": [
    "# Let's see how many claims are filed by location\n",
    "claims['Location'].value_counts()"
   ]
  },
  {
   "cell_type": "code",
   "execution_count": 28,
   "id": "b8d15f98",
   "metadata": {},
   "outputs": [
    {
     "data": {
      "text/plain": [
       "1     28\n",
       "2     16\n",
       "3     11\n",
       "4      9\n",
       "0      6\n",
       "6      5\n",
       "7      4\n",
       "8      4\n",
       "10     2\n",
       "17     2\n",
       "5      2\n",
       "30     1\n",
       "18     1\n",
       "41     1\n",
       "15     1\n",
       "33     1\n",
       "9      1\n",
       "32     1\n",
       "20     1\n",
       "Name: Individuals on Claim, dtype: int64"
      ]
     },
     "execution_count": 28,
     "metadata": {},
     "output_type": "execute_result"
    }
   ],
   "source": [
    "# Let's see how many claims are per the number of individuals\n",
    "claims['Individuals on Claim'].value_counts()"
   ]
  },
  {
   "cell_type": "code",
   "execution_count": 29,
   "id": "b8bcbab0",
   "metadata": {},
   "outputs": [
    {
     "data": {
      "text/html": [
       "<div>\n",
       "<style scoped>\n",
       "    .dataframe tbody tr th:only-of-type {\n",
       "        vertical-align: middle;\n",
       "    }\n",
       "\n",
       "    .dataframe tbody tr th {\n",
       "        vertical-align: top;\n",
       "    }\n",
       "\n",
       "    .dataframe thead th {\n",
       "        text-align: right;\n",
       "    }\n",
       "</style>\n",
       "<table border=\"1\" class=\"dataframe\">\n",
       "  <thead>\n",
       "    <tr style=\"text-align: right;\">\n",
       "      <th></th>\n",
       "      <th>Claim ID</th>\n",
       "      <th>Time to Close</th>\n",
       "      <th>Claim Amount</th>\n",
       "      <th>Amount Paid</th>\n",
       "      <th>Location</th>\n",
       "      <th>Individuals on Claim</th>\n",
       "      <th>Linked Cases</th>\n",
       "      <th>Cause</th>\n",
       "    </tr>\n",
       "  </thead>\n",
       "  <tbody>\n",
       "    <tr>\n",
       "      <th>0</th>\n",
       "      <td>0000000-00.2010.0.00.0094</td>\n",
       "      <td>2082</td>\n",
       "      <td>50000.0</td>\n",
       "      <td>34297.47</td>\n",
       "      <td>RECIFE</td>\n",
       "      <td>2</td>\n",
       "      <td>False</td>\n",
       "      <td>NaN</td>\n",
       "    </tr>\n",
       "    <tr>\n",
       "      <th>1</th>\n",
       "      <td>0000000-00.2011.0.00.0086</td>\n",
       "      <td>3591</td>\n",
       "      <td>180000.0</td>\n",
       "      <td>56383.54</td>\n",
       "      <td>SAO LUIS</td>\n",
       "      <td>7</td>\n",
       "      <td>False</td>\n",
       "      <td>NaN</td>\n",
       "    </tr>\n",
       "    <tr>\n",
       "      <th>3</th>\n",
       "      <td>0000000-00.2013.0.00.0096</td>\n",
       "      <td>1143</td>\n",
       "      <td>95104.0</td>\n",
       "      <td>29217.16</td>\n",
       "      <td>FORTALEZA</td>\n",
       "      <td>4</td>\n",
       "      <td>False</td>\n",
       "      <td>NaN</td>\n",
       "    </tr>\n",
       "    <tr>\n",
       "      <th>5</th>\n",
       "      <td>0000000-00.2014.0.00.0077</td>\n",
       "      <td>578</td>\n",
       "      <td>150000.0</td>\n",
       "      <td>23214.56</td>\n",
       "      <td>FORTALEZA</td>\n",
       "      <td>6</td>\n",
       "      <td>False</td>\n",
       "      <td>NaN</td>\n",
       "    </tr>\n",
       "    <tr>\n",
       "      <th>7</th>\n",
       "      <td>0000000-00.2014.0.00.0043</td>\n",
       "      <td>2354</td>\n",
       "      <td>40870.0</td>\n",
       "      <td>24161.73</td>\n",
       "      <td>FORTALEZA</td>\n",
       "      <td>1</td>\n",
       "      <td>False</td>\n",
       "      <td>NaN</td>\n",
       "    </tr>\n",
       "    <tr>\n",
       "      <th>...</th>\n",
       "      <td>...</td>\n",
       "      <td>...</td>\n",
       "      <td>...</td>\n",
       "      <td>...</td>\n",
       "      <td>...</td>\n",
       "      <td>...</td>\n",
       "      <td>...</td>\n",
       "      <td>...</td>\n",
       "    </tr>\n",
       "    <tr>\n",
       "      <th>92</th>\n",
       "      <td>0000000-00.2020.0.00.0088</td>\n",
       "      <td>300</td>\n",
       "      <td>111970.0</td>\n",
       "      <td>43757.54</td>\n",
       "      <td>RECIFE</td>\n",
       "      <td>4</td>\n",
       "      <td>False</td>\n",
       "      <td>NaN</td>\n",
       "    </tr>\n",
       "    <tr>\n",
       "      <th>94</th>\n",
       "      <td>0000000-00.2020.0.00.0057</td>\n",
       "      <td>86</td>\n",
       "      <td>50000.0</td>\n",
       "      <td>8363.96</td>\n",
       "      <td>FORTALEZA</td>\n",
       "      <td>2</td>\n",
       "      <td>False</td>\n",
       "      <td>NaN</td>\n",
       "    </tr>\n",
       "    <tr>\n",
       "      <th>95</th>\n",
       "      <td>0000000-00.2020.0.00.0010</td>\n",
       "      <td>201</td>\n",
       "      <td>60000.0</td>\n",
       "      <td>42318.80</td>\n",
       "      <td>NATAL</td>\n",
       "      <td>2</td>\n",
       "      <td>False</td>\n",
       "      <td>NaN</td>\n",
       "    </tr>\n",
       "    <tr>\n",
       "      <th>96</th>\n",
       "      <td>0000000-00.2020.0.00.0059</td>\n",
       "      <td>200</td>\n",
       "      <td>474542.0</td>\n",
       "      <td>329473.49</td>\n",
       "      <td>NATAL</td>\n",
       "      <td>20</td>\n",
       "      <td>True</td>\n",
       "      <td>NaN</td>\n",
       "    </tr>\n",
       "    <tr>\n",
       "      <th>97</th>\n",
       "      <td>0000000-00.2020.0.00.0073</td>\n",
       "      <td>195</td>\n",
       "      <td>40000.0</td>\n",
       "      <td>15406.95</td>\n",
       "      <td>NATAL</td>\n",
       "      <td>1</td>\n",
       "      <td>False</td>\n",
       "      <td>NaN</td>\n",
       "    </tr>\n",
       "  </tbody>\n",
       "</table>\n",
       "<p>77 rows × 8 columns</p>\n",
       "</div>"
      ],
      "text/plain": [
       "                     Claim ID  Time to Close  Claim Amount  Amount Paid  \\\n",
       "0   0000000-00.2010.0.00.0094           2082       50000.0     34297.47   \n",
       "1   0000000-00.2011.0.00.0086           3591      180000.0     56383.54   \n",
       "3   0000000-00.2013.0.00.0096           1143       95104.0     29217.16   \n",
       "5   0000000-00.2014.0.00.0077            578      150000.0     23214.56   \n",
       "7   0000000-00.2014.0.00.0043           2354       40870.0     24161.73   \n",
       "..                        ...            ...           ...          ...   \n",
       "92  0000000-00.2020.0.00.0088            300      111970.0     43757.54   \n",
       "94  0000000-00.2020.0.00.0057             86       50000.0      8363.96   \n",
       "95  0000000-00.2020.0.00.0010            201       60000.0     42318.80   \n",
       "96  0000000-00.2020.0.00.0059            200      474542.0    329473.49   \n",
       "97  0000000-00.2020.0.00.0073            195       40000.0     15406.95   \n",
       "\n",
       "     Location  Individuals on Claim  Linked Cases Cause  \n",
       "0      RECIFE                     2         False   NaN  \n",
       "1    SAO LUIS                     7         False   NaN  \n",
       "3   FORTALEZA                     4         False   NaN  \n",
       "5   FORTALEZA                     6         False   NaN  \n",
       "7   FORTALEZA                     1         False   NaN  \n",
       "..        ...                   ...           ...   ...  \n",
       "92     RECIFE                     4         False   NaN  \n",
       "94  FORTALEZA                     2         False   NaN  \n",
       "95      NATAL                     2         False   NaN  \n",
       "96      NATAL                    20          True   NaN  \n",
       "97      NATAL                     1         False   NaN  \n",
       "\n",
       "[77 rows x 8 columns]"
      ]
     },
     "execution_count": 29,
     "metadata": {},
     "output_type": "execute_result"
    }
   ],
   "source": [
    "# Let's see how many NaN has the cause column\n",
    "claims.loc[claims.Cause.isnull()]"
   ]
  },
  {
   "cell_type": "code",
   "execution_count": 30,
   "id": "af64b35c",
   "metadata": {},
   "outputs": [],
   "source": [
    "# The causes of the food poisoning injuries are ‘vegetable’, ‘meat’, or ‘unknown’. Replace any empty rows with ‘unknown’.\n",
    "claims = claims.fillna({'Cause':'unknown'})"
   ]
  },
  {
   "cell_type": "code",
   "execution_count": 31,
   "id": "dc5ae017",
   "metadata": {},
   "outputs": [],
   "source": [
    "# Let's also replace 'vegetables' by 'vegetable'.\n",
    "claims['Cause'] = claims['Cause'].str.replace('vegetables','vegetable', regex=True)"
   ]
  },
  {
   "cell_type": "code",
   "execution_count": 32,
   "id": "29f4e6b1",
   "metadata": {},
   "outputs": [
    {
     "data": {
      "text/html": [
       "<div>\n",
       "<style scoped>\n",
       "    .dataframe tbody tr th:only-of-type {\n",
       "        vertical-align: middle;\n",
       "    }\n",
       "\n",
       "    .dataframe tbody tr th {\n",
       "        vertical-align: top;\n",
       "    }\n",
       "\n",
       "    .dataframe thead th {\n",
       "        text-align: right;\n",
       "    }\n",
       "</style>\n",
       "<table border=\"1\" class=\"dataframe\">\n",
       "  <thead>\n",
       "    <tr style=\"text-align: right;\">\n",
       "      <th></th>\n",
       "      <th>Claim ID</th>\n",
       "      <th>Time to Close</th>\n",
       "      <th>Claim Amount</th>\n",
       "      <th>Amount Paid</th>\n",
       "      <th>Location</th>\n",
       "      <th>Individuals on Claim</th>\n",
       "      <th>Linked Cases</th>\n",
       "      <th>Cause</th>\n",
       "    </tr>\n",
       "  </thead>\n",
       "  <tbody>\n",
       "    <tr>\n",
       "      <th>0</th>\n",
       "      <td>0000000-00.2010.0.00.0094</td>\n",
       "      <td>2082</td>\n",
       "      <td>50000.0</td>\n",
       "      <td>34297.47</td>\n",
       "      <td>RECIFE</td>\n",
       "      <td>2</td>\n",
       "      <td>False</td>\n",
       "      <td>unknown</td>\n",
       "    </tr>\n",
       "    <tr>\n",
       "      <th>1</th>\n",
       "      <td>0000000-00.2011.0.00.0086</td>\n",
       "      <td>3591</td>\n",
       "      <td>180000.0</td>\n",
       "      <td>56383.54</td>\n",
       "      <td>SAO LUIS</td>\n",
       "      <td>7</td>\n",
       "      <td>False</td>\n",
       "      <td>unknown</td>\n",
       "    </tr>\n",
       "    <tr>\n",
       "      <th>2</th>\n",
       "      <td>0000000-00.2012.0.00.0092</td>\n",
       "      <td>2997</td>\n",
       "      <td>70000.0</td>\n",
       "      <td>12366.76</td>\n",
       "      <td>SAO LUIS</td>\n",
       "      <td>3</td>\n",
       "      <td>False</td>\n",
       "      <td>vegetable</td>\n",
       "    </tr>\n",
       "    <tr>\n",
       "      <th>3</th>\n",
       "      <td>0000000-00.2013.0.00.0096</td>\n",
       "      <td>1143</td>\n",
       "      <td>95104.0</td>\n",
       "      <td>29217.16</td>\n",
       "      <td>FORTALEZA</td>\n",
       "      <td>4</td>\n",
       "      <td>False</td>\n",
       "      <td>unknown</td>\n",
       "    </tr>\n",
       "    <tr>\n",
       "      <th>4</th>\n",
       "      <td>0000000-00.2014.0.00.0097</td>\n",
       "      <td>117</td>\n",
       "      <td>29000.0</td>\n",
       "      <td>12610.50</td>\n",
       "      <td>FORTALEZA</td>\n",
       "      <td>1</td>\n",
       "      <td>False</td>\n",
       "      <td>meat</td>\n",
       "    </tr>\n",
       "    <tr>\n",
       "      <th>...</th>\n",
       "      <td>...</td>\n",
       "      <td>...</td>\n",
       "      <td>...</td>\n",
       "      <td>...</td>\n",
       "      <td>...</td>\n",
       "      <td>...</td>\n",
       "      <td>...</td>\n",
       "      <td>...</td>\n",
       "    </tr>\n",
       "    <tr>\n",
       "      <th>93</th>\n",
       "      <td>0000000-00.2020.0.00.0023</td>\n",
       "      <td>208</td>\n",
       "      <td>80396.0</td>\n",
       "      <td>40668.14</td>\n",
       "      <td>FORTALEZA</td>\n",
       "      <td>3</td>\n",
       "      <td>False</td>\n",
       "      <td>meat</td>\n",
       "    </tr>\n",
       "    <tr>\n",
       "      <th>94</th>\n",
       "      <td>0000000-00.2020.0.00.0057</td>\n",
       "      <td>86</td>\n",
       "      <td>50000.0</td>\n",
       "      <td>8363.96</td>\n",
       "      <td>FORTALEZA</td>\n",
       "      <td>2</td>\n",
       "      <td>False</td>\n",
       "      <td>unknown</td>\n",
       "    </tr>\n",
       "    <tr>\n",
       "      <th>95</th>\n",
       "      <td>0000000-00.2020.0.00.0010</td>\n",
       "      <td>201</td>\n",
       "      <td>60000.0</td>\n",
       "      <td>42318.80</td>\n",
       "      <td>NATAL</td>\n",
       "      <td>2</td>\n",
       "      <td>False</td>\n",
       "      <td>unknown</td>\n",
       "    </tr>\n",
       "    <tr>\n",
       "      <th>96</th>\n",
       "      <td>0000000-00.2020.0.00.0059</td>\n",
       "      <td>200</td>\n",
       "      <td>474542.0</td>\n",
       "      <td>329473.49</td>\n",
       "      <td>NATAL</td>\n",
       "      <td>20</td>\n",
       "      <td>True</td>\n",
       "      <td>unknown</td>\n",
       "    </tr>\n",
       "    <tr>\n",
       "      <th>97</th>\n",
       "      <td>0000000-00.2020.0.00.0073</td>\n",
       "      <td>195</td>\n",
       "      <td>40000.0</td>\n",
       "      <td>15406.95</td>\n",
       "      <td>NATAL</td>\n",
       "      <td>1</td>\n",
       "      <td>False</td>\n",
       "      <td>unknown</td>\n",
       "    </tr>\n",
       "  </tbody>\n",
       "</table>\n",
       "<p>97 rows × 8 columns</p>\n",
       "</div>"
      ],
      "text/plain": [
       "                     Claim ID  Time to Close  Claim Amount  Amount Paid  \\\n",
       "0   0000000-00.2010.0.00.0094           2082       50000.0     34297.47   \n",
       "1   0000000-00.2011.0.00.0086           3591      180000.0     56383.54   \n",
       "2   0000000-00.2012.0.00.0092           2997       70000.0     12366.76   \n",
       "3   0000000-00.2013.0.00.0096           1143       95104.0     29217.16   \n",
       "4   0000000-00.2014.0.00.0097            117       29000.0     12610.50   \n",
       "..                        ...            ...           ...          ...   \n",
       "93  0000000-00.2020.0.00.0023            208       80396.0     40668.14   \n",
       "94  0000000-00.2020.0.00.0057             86       50000.0      8363.96   \n",
       "95  0000000-00.2020.0.00.0010            201       60000.0     42318.80   \n",
       "96  0000000-00.2020.0.00.0059            200      474542.0    329473.49   \n",
       "97  0000000-00.2020.0.00.0073            195       40000.0     15406.95   \n",
       "\n",
       "     Location  Individuals on Claim  Linked Cases      Cause  \n",
       "0      RECIFE                     2         False    unknown  \n",
       "1    SAO LUIS                     7         False    unknown  \n",
       "2    SAO LUIS                     3         False  vegetable  \n",
       "3   FORTALEZA                     4         False    unknown  \n",
       "4   FORTALEZA                     1         False       meat  \n",
       "..        ...                   ...           ...        ...  \n",
       "93  FORTALEZA                     3         False       meat  \n",
       "94  FORTALEZA                     2         False    unknown  \n",
       "95      NATAL                     2         False    unknown  \n",
       "96      NATAL                    20          True    unknown  \n",
       "97      NATAL                     1         False    unknown  \n",
       "\n",
       "[97 rows x 8 columns]"
      ]
     },
     "execution_count": 32,
     "metadata": {},
     "output_type": "execute_result"
    }
   ],
   "source": [
    "# Display the final data\n",
    "claims"
   ]
  },
  {
   "cell_type": "code",
   "execution_count": 33,
   "id": "ed8574a6",
   "metadata": {},
   "outputs": [],
   "source": [
    "## Data Validation\n",
    " \n",
    "# The original data is 98 rows and 8 columns. According to the data set description, the first thing I did was to remove the \n",
    "# currency symbol (R$) in the 'Claim Amount' column. Then, I replaced any empty rows with 'unknown' in the 'Cause' column. \n",
    "# Also, I converted the dtype 'object' to 'float64'. Even though it didn't say, I also replaced 'vegetables' to 'vegetable'\n",
    "# to match the food poisoning injuries. There was also a negative value (-57) in the 'Time to Close' column which I removed \n",
    "# because the number of days shouldn't be negative which left 97 rows of data. Looking at the remaining columns:\n",
    "\n",
    "# - There were 97 unique identifiers of the claim, as expected.\n",
    "# - There were 95 unique values, the value 120 (days) was repeated two times.\n",
    "# - Both, 'Claim Amount' and 'Amount Paid' had 97 non-null values.\n",
    "# - There were 4 locations, as expected.\n",
    "# - There were 97 individuals in total who filed a claim but, there were 6 claims where they had 0 individuals \n",
    "#   so this should be confirmed with the legal department providing the data to know what should be done.\n",
    "# - There were 2 Linked Cases options - True/False, as expected.\n",
    "# - There were 3 Cause options, as expected."
   ]
  },
  {
   "cell_type": "code",
   "execution_count": 34,
   "id": "ad69e005",
   "metadata": {},
   "outputs": [],
   "source": [
    "## DATA DISCOVERY AND VISUALIZATION"
   ]
  },
  {
   "cell_type": "code",
   "execution_count": 35,
   "id": "49311d45",
   "metadata": {},
   "outputs": [],
   "source": [
    "## Exploratory Analysis"
   ]
  },
  {
   "cell_type": "code",
   "execution_count": 36,
   "id": "4b46a594",
   "metadata": {},
   "outputs": [
    {
     "data": {
      "text/plain": [
       "Text(0, 0.5, 'Count')"
      ]
     },
     "execution_count": 36,
     "metadata": {},
     "output_type": "execute_result"
    },
    {
     "data": {
      "image/png": "[encoded data removed]",
      "text/plain": [
       "<Figure size 640x480 with 1 Axes>"
      ]
     },
     "metadata": {},
     "output_type": "display_data"
    }
   ],
   "source": [
    "# QUESTION 1\n",
    "# How does the number of claims differ across locations?\n",
    "\n",
    "# let's cluster the location\n",
    "sns.set_theme(style=\"ticks\")\n",
    "diamonds= sns.load_dataset(\"diamonds\")\n",
    "\n",
    "claims.groupby('Location')['Location'].count().plot(kind='bar',legend='Reverse', rot=360)\n",
    "plt.title('Claims by location')\n",
    "plt.ylabel('Count')"
   ]
  },
  {
   "cell_type": "code",
   "execution_count": 37,
   "id": "ae35be5d",
   "metadata": {},
   "outputs": [],
   "source": [
    "# This suggest SAO LUIS is the most common location where people file a claim, it has a total of 29 claims and RECIFE is not so\n",
    "# far behind with 25 claims; FORTALEZA and NATAL are almost close with only one claim of difference, they have 22 and 21 claims\n",
    "# respectively."
   ]
  },
  {
   "cell_type": "code",
   "execution_count": 38,
   "id": "0c20ccc2",
   "metadata": {},
   "outputs": [
    {
     "data": {
      "text/plain": [
       "Location\n",
       "FORTALEZA     775.500000\n",
       "NATAL         581.142857\n",
       "RECIFE        860.680000\n",
       "SAO LUIS     1063.620690\n",
       "Name: Time to Close, dtype: float64"
      ]
     },
     "execution_count": 38,
     "metadata": {},
     "output_type": "execute_result"
    }
   ],
   "source": [
    "claims.groupby(['Location'])['Time to Close'].mean()"
   ]
  },
  {
   "cell_type": "code",
   "execution_count": 39,
   "id": "8d9af8a9",
   "metadata": {},
   "outputs": [
    {
     "data": {
      "text/plain": [
       "Text(0.5, 12.44444444444443, 'Days')"
      ]
     },
     "execution_count": 39,
     "metadata": {},
     "output_type": "execute_result"
    },
    {
     "data": {
      "image/png": "[encoded data removed]",
      "text/plain": [
       "<Figure size 500x500 with 1 Axes>"
      ]
     },
     "metadata": {},
     "output_type": "display_data"
    }
   ],
   "source": [
    "# QUESTION 2\n",
    "# What is the distribution of time to close claims?\n",
    "\n",
    "sns.set_theme(style=\"ticks\")\n",
    "diamonds= sns.load_dataset(\"diamonds\")\n",
    "\n",
    "sns.displot(claims, x='Time to Close', kde=True)\n",
    "plt.title('Distribution of time to close claims')\n",
    "plt.xlabel('Days')"
   ]
  },
  {
   "cell_type": "code",
   "execution_count": 40,
   "id": "a240ce90",
   "metadata": {},
   "outputs": [],
   "source": [
    "# It looks like we have a right-skewed distribution which means most of the data falls to the right so you can see the legal \n",
    "# team delays between 500 and 1000 days per claim but there are also some claims who take 3000+ days to close which it's odd \n",
    "# because it means those claims took more than 8 years to close. "
   ]
  },
  {
   "cell_type": "code",
   "execution_count": 41,
   "id": "16ad9060",
   "metadata": {},
   "outputs": [],
   "source": [
    "# Finally, we want to see how the location impacts the average time to close a claim. In the graphic below you can see that \n",
    "# some outliers are dominating the data which are those data points that are located outside the whiskers of the box plot.\n",
    "# For example, looking at SAO LUIS box plot, you can see the outlier is creating a potencial bias because the distribution \n",
    "# is shifted to the right so to make it easier to compare the rest of the data, we will remove those outliers. First, let's \n",
    "# see the range in number of days to close a claim per location. "
   ]
  },
  {
   "cell_type": "code",
   "execution_count": 42,
   "id": "da5b7e84",
   "metadata": {},
   "outputs": [
    {
     "data": {
      "text/plain": [
       "<AxesSubplot:title={'center':'Range in number of days to close a claim per location'}, xlabel='Location', ylabel='Time to Close'>"
      ]
     },
     "execution_count": 42,
     "metadata": {},
     "output_type": "execute_result"
    },
    {
     "data": {
      "image/png": "[encoded data removed]",
      "text/plain": [
       "<Figure size 640x480 with 1 Axes>"
      ]
     },
     "metadata": {},
     "output_type": "display_data"
    }
   ],
   "source": [
    "# QUESTION 3\n",
    "# How does the average time to close claims differ by location?\n",
    "\n",
    "# First, let's graph the variables\n",
    "plt.title('Range in number of days to close a claim per location')\n",
    "sns.stripplot(data=claims, x=\"Location\", y=\"Time to Close\") "
   ]
  },
  {
   "cell_type": "code",
   "execution_count": 43,
   "id": "f7dbc8e6",
   "metadata": {},
   "outputs": [
    {
     "data": {
      "image/png": "[encoded data removed]",
      "text/plain": [
       "<Figure size 640x480 with 1 Axes>"
      ]
     },
     "metadata": {},
     "output_type": "display_data"
    }
   ],
   "source": [
    "# Another way to see the graph\n",
    "plt.title('Range in number of days to close a claim per location')\n",
    "sns.boxplot(data=claims, x=\"Location\", y=\"Time to Close\")\n",
    "sns.despine(offset=10, trim=True)"
   ]
  },
  {
   "cell_type": "code",
   "execution_count": 44,
   "id": "4c846cda",
   "metadata": {},
   "outputs": [
    {
     "name": "stdout",
     "output_type": "stream",
     "text": [
      "Old shape: (97, 8)\n"
     ]
    }
   ],
   "source": [
    "# We must remove the outliers for a better visualization\n",
    "\n",
    "import numpy as np\n",
    "\n",
    "# IQR\n",
    "q1 = claims['Time to Close'].quantile(0.25)\n",
    "q3 = claims['Time to Close'].quantile(0.75)\n",
    "iqr = q3-q1\n",
    "\n",
    "# Limit bounds\n",
    "upper_limit = q3 + 1.5 * iqr\n",
    "lower_limit = q1 - 1.5 * iqr\n",
    "\n",
    "print('Old shape:', claims.shape)"
   ]
  },
  {
   "cell_type": "code",
   "execution_count": 45,
   "id": "46c860fb",
   "metadata": {},
   "outputs": [
    {
     "name": "stdout",
     "output_type": "stream",
     "text": [
      "Upper bound: 0     False\n",
      "1      True\n",
      "2      True\n",
      "3     False\n",
      "4     False\n",
      "      ...  \n",
      "93    False\n",
      "94    False\n",
      "95    False\n",
      "96    False\n",
      "97    False\n",
      "Name: Time to Close, Length: 97, dtype: bool\n",
      "(array([1, 2, 7], dtype=int64),)\n",
      "Lower bound: 0     False\n",
      "1     False\n",
      "2     False\n",
      "3     False\n",
      "4     False\n",
      "      ...  \n",
      "93    False\n",
      "94    False\n",
      "95    False\n",
      "96    False\n",
      "97    False\n",
      "Name: Time to Close, Length: 97, dtype: bool\n",
      "(array([], dtype=int64),)\n"
     ]
    }
   ],
   "source": [
    "# Above Upper bound\n",
    "upper = claims['Time to Close'] >= upper_limit\n",
    " \n",
    "print(\"Upper bound:\",upper)\n",
    "print(np.where(upper))\n",
    " \n",
    "# Below Lower bound\n",
    "lower = claims['Time to Close'] <= lower_limit\n",
    "print(\"Lower bound:\", lower)\n",
    "print(np.where(lower))"
   ]
  },
  {
   "cell_type": "code",
   "execution_count": 46,
   "id": "67aae21b",
   "metadata": {},
   "outputs": [
    {
     "data": {
      "text/html": [
       "<div>\n",
       "<style scoped>\n",
       "    .dataframe tbody tr th:only-of-type {\n",
       "        vertical-align: middle;\n",
       "    }\n",
       "\n",
       "    .dataframe tbody tr th {\n",
       "        vertical-align: top;\n",
       "    }\n",
       "\n",
       "    .dataframe thead th {\n",
       "        text-align: right;\n",
       "    }\n",
       "</style>\n",
       "<table border=\"1\" class=\"dataframe\">\n",
       "  <thead>\n",
       "    <tr style=\"text-align: right;\">\n",
       "      <th></th>\n",
       "      <th>Claim ID</th>\n",
       "      <th>Time to Close</th>\n",
       "      <th>Claim Amount</th>\n",
       "      <th>Amount Paid</th>\n",
       "      <th>Location</th>\n",
       "      <th>Individuals on Claim</th>\n",
       "      <th>Linked Cases</th>\n",
       "      <th>Cause</th>\n",
       "    </tr>\n",
       "  </thead>\n",
       "  <tbody>\n",
       "    <tr>\n",
       "      <th>1</th>\n",
       "      <td>0000000-00.2011.0.00.0086</td>\n",
       "      <td>3591</td>\n",
       "      <td>180000.0</td>\n",
       "      <td>56383.54</td>\n",
       "      <td>SAO LUIS</td>\n",
       "      <td>7</td>\n",
       "      <td>False</td>\n",
       "      <td>unknown</td>\n",
       "    </tr>\n",
       "    <tr>\n",
       "      <th>2</th>\n",
       "      <td>0000000-00.2012.0.00.0092</td>\n",
       "      <td>2997</td>\n",
       "      <td>70000.0</td>\n",
       "      <td>12366.76</td>\n",
       "      <td>SAO LUIS</td>\n",
       "      <td>3</td>\n",
       "      <td>False</td>\n",
       "      <td>vegetable</td>\n",
       "    </tr>\n",
       "    <tr>\n",
       "      <th>7</th>\n",
       "      <td>0000000-00.2014.0.00.0043</td>\n",
       "      <td>2354</td>\n",
       "      <td>40870.0</td>\n",
       "      <td>24161.73</td>\n",
       "      <td>FORTALEZA</td>\n",
       "      <td>1</td>\n",
       "      <td>False</td>\n",
       "      <td>unknown</td>\n",
       "    </tr>\n",
       "  </tbody>\n",
       "</table>\n",
       "</div>"
      ],
      "text/plain": [
       "                    Claim ID  Time to Close  Claim Amount  Amount Paid  \\\n",
       "1  0000000-00.2011.0.00.0086           3591      180000.0     56383.54   \n",
       "2  0000000-00.2012.0.00.0092           2997       70000.0     12366.76   \n",
       "7  0000000-00.2014.0.00.0043           2354       40870.0     24161.73   \n",
       "\n",
       "    Location  Individuals on Claim  Linked Cases      Cause  \n",
       "1   SAO LUIS                     7         False    unknown  \n",
       "2   SAO LUIS                     3         False  vegetable  \n",
       "7  FORTALEZA                     1         False    unknown  "
      ]
     },
     "execution_count": 46,
     "metadata": {},
     "output_type": "execute_result"
    }
   ],
   "source": [
    "# Let's see which rows are the outliers\n",
    "claims.iloc[[1, 2, 7]]"
   ]
  },
  {
   "cell_type": "code",
   "execution_count": 47,
   "id": "e8c1012d",
   "metadata": {},
   "outputs": [],
   "source": [
    "# Now, let's drop all of them\n",
    "claims.drop([1, 2, 7], axis=0, inplace=True)"
   ]
  },
  {
   "cell_type": "code",
   "execution_count": 48,
   "id": "00756bfc",
   "metadata": {},
   "outputs": [
    {
     "data": {
      "text/html": [
       "<div>\n",
       "<style scoped>\n",
       "    .dataframe tbody tr th:only-of-type {\n",
       "        vertical-align: middle;\n",
       "    }\n",
       "\n",
       "    .dataframe tbody tr th {\n",
       "        vertical-align: top;\n",
       "    }\n",
       "\n",
       "    .dataframe thead th {\n",
       "        text-align: right;\n",
       "    }\n",
       "</style>\n",
       "<table border=\"1\" class=\"dataframe\">\n",
       "  <thead>\n",
       "    <tr style=\"text-align: right;\">\n",
       "      <th></th>\n",
       "      <th>Claim ID</th>\n",
       "      <th>Time to Close</th>\n",
       "      <th>Claim Amount</th>\n",
       "      <th>Amount Paid</th>\n",
       "      <th>Location</th>\n",
       "      <th>Individuals on Claim</th>\n",
       "      <th>Linked Cases</th>\n",
       "      <th>Cause</th>\n",
       "    </tr>\n",
       "  </thead>\n",
       "  <tbody>\n",
       "    <tr>\n",
       "      <th>0</th>\n",
       "      <td>0000000-00.2010.0.00.0094</td>\n",
       "      <td>2082</td>\n",
       "      <td>50000.0</td>\n",
       "      <td>34297.47</td>\n",
       "      <td>RECIFE</td>\n",
       "      <td>2</td>\n",
       "      <td>False</td>\n",
       "      <td>unknown</td>\n",
       "    </tr>\n",
       "    <tr>\n",
       "      <th>3</th>\n",
       "      <td>0000000-00.2013.0.00.0096</td>\n",
       "      <td>1143</td>\n",
       "      <td>95104.0</td>\n",
       "      <td>29217.16</td>\n",
       "      <td>FORTALEZA</td>\n",
       "      <td>4</td>\n",
       "      <td>False</td>\n",
       "      <td>unknown</td>\n",
       "    </tr>\n",
       "    <tr>\n",
       "      <th>4</th>\n",
       "      <td>0000000-00.2014.0.00.0097</td>\n",
       "      <td>117</td>\n",
       "      <td>29000.0</td>\n",
       "      <td>12610.50</td>\n",
       "      <td>FORTALEZA</td>\n",
       "      <td>1</td>\n",
       "      <td>False</td>\n",
       "      <td>meat</td>\n",
       "    </tr>\n",
       "    <tr>\n",
       "      <th>5</th>\n",
       "      <td>0000000-00.2014.0.00.0077</td>\n",
       "      <td>578</td>\n",
       "      <td>150000.0</td>\n",
       "      <td>23214.56</td>\n",
       "      <td>FORTALEZA</td>\n",
       "      <td>6</td>\n",
       "      <td>False</td>\n",
       "      <td>unknown</td>\n",
       "    </tr>\n",
       "    <tr>\n",
       "      <th>6</th>\n",
       "      <td>0000000-00.2014.0.00.0076</td>\n",
       "      <td>378</td>\n",
       "      <td>50000.0</td>\n",
       "      <td>25281.18</td>\n",
       "      <td>NATAL</td>\n",
       "      <td>2</td>\n",
       "      <td>False</td>\n",
       "      <td>meat</td>\n",
       "    </tr>\n",
       "    <tr>\n",
       "      <th>...</th>\n",
       "      <td>...</td>\n",
       "      <td>...</td>\n",
       "      <td>...</td>\n",
       "      <td>...</td>\n",
       "      <td>...</td>\n",
       "      <td>...</td>\n",
       "      <td>...</td>\n",
       "      <td>...</td>\n",
       "    </tr>\n",
       "    <tr>\n",
       "      <th>93</th>\n",
       "      <td>0000000-00.2020.0.00.0023</td>\n",
       "      <td>208</td>\n",
       "      <td>80396.0</td>\n",
       "      <td>40668.14</td>\n",
       "      <td>FORTALEZA</td>\n",
       "      <td>3</td>\n",
       "      <td>False</td>\n",
       "      <td>meat</td>\n",
       "    </tr>\n",
       "    <tr>\n",
       "      <th>94</th>\n",
       "      <td>0000000-00.2020.0.00.0057</td>\n",
       "      <td>86</td>\n",
       "      <td>50000.0</td>\n",
       "      <td>8363.96</td>\n",
       "      <td>FORTALEZA</td>\n",
       "      <td>2</td>\n",
       "      <td>False</td>\n",
       "      <td>unknown</td>\n",
       "    </tr>\n",
       "    <tr>\n",
       "      <th>95</th>\n",
       "      <td>0000000-00.2020.0.00.0010</td>\n",
       "      <td>201</td>\n",
       "      <td>60000.0</td>\n",
       "      <td>42318.80</td>\n",
       "      <td>NATAL</td>\n",
       "      <td>2</td>\n",
       "      <td>False</td>\n",
       "      <td>unknown</td>\n",
       "    </tr>\n",
       "    <tr>\n",
       "      <th>96</th>\n",
       "      <td>0000000-00.2020.0.00.0059</td>\n",
       "      <td>200</td>\n",
       "      <td>474542.0</td>\n",
       "      <td>329473.49</td>\n",
       "      <td>NATAL</td>\n",
       "      <td>20</td>\n",
       "      <td>True</td>\n",
       "      <td>unknown</td>\n",
       "    </tr>\n",
       "    <tr>\n",
       "      <th>97</th>\n",
       "      <td>0000000-00.2020.0.00.0073</td>\n",
       "      <td>195</td>\n",
       "      <td>40000.0</td>\n",
       "      <td>15406.95</td>\n",
       "      <td>NATAL</td>\n",
       "      <td>1</td>\n",
       "      <td>False</td>\n",
       "      <td>unknown</td>\n",
       "    </tr>\n",
       "  </tbody>\n",
       "</table>\n",
       "<p>94 rows × 8 columns</p>\n",
       "</div>"
      ],
      "text/plain": [
       "                     Claim ID  Time to Close  Claim Amount  Amount Paid  \\\n",
       "0   0000000-00.2010.0.00.0094           2082       50000.0     34297.47   \n",
       "3   0000000-00.2013.0.00.0096           1143       95104.0     29217.16   \n",
       "4   0000000-00.2014.0.00.0097            117       29000.0     12610.50   \n",
       "5   0000000-00.2014.0.00.0077            578      150000.0     23214.56   \n",
       "6   0000000-00.2014.0.00.0076            378       50000.0     25281.18   \n",
       "..                        ...            ...           ...          ...   \n",
       "93  0000000-00.2020.0.00.0023            208       80396.0     40668.14   \n",
       "94  0000000-00.2020.0.00.0057             86       50000.0      8363.96   \n",
       "95  0000000-00.2020.0.00.0010            201       60000.0     42318.80   \n",
       "96  0000000-00.2020.0.00.0059            200      474542.0    329473.49   \n",
       "97  0000000-00.2020.0.00.0073            195       40000.0     15406.95   \n",
       "\n",
       "     Location  Individuals on Claim  Linked Cases    Cause  \n",
       "0      RECIFE                     2         False  unknown  \n",
       "3   FORTALEZA                     4         False  unknown  \n",
       "4   FORTALEZA                     1         False     meat  \n",
       "5   FORTALEZA                     6         False  unknown  \n",
       "6       NATAL                     2         False     meat  \n",
       "..        ...                   ...           ...      ...  \n",
       "93  FORTALEZA                     3         False     meat  \n",
       "94  FORTALEZA                     2         False  unknown  \n",
       "95      NATAL                     2         False  unknown  \n",
       "96      NATAL                    20          True  unknown  \n",
       "97      NATAL                     1         False  unknown  \n",
       "\n",
       "[94 rows x 8 columns]"
      ]
     },
     "execution_count": 48,
     "metadata": {},
     "output_type": "execute_result"
    }
   ],
   "source": [
    "# Let's see the new data without outliers\n",
    "claims"
   ]
  },
  {
   "cell_type": "code",
   "execution_count": 49,
   "id": "1ef2c970",
   "metadata": {},
   "outputs": [
    {
     "name": "stdout",
     "output_type": "stream",
     "text": [
      "New shape without outliers: (94, 8)\n"
     ]
    }
   ],
   "source": [
    "print('New shape without outliers:', claims.shape)"
   ]
  },
  {
   "cell_type": "code",
   "execution_count": 50,
   "id": "f1110b05",
   "metadata": {},
   "outputs": [],
   "source": [
    "# After we remove the outlier you can see there are still some outliers but maybe those ones represent natural variations in \n",
    "# the population. Now, we can focus on the main range of data. Let's see the average time to close a claim (white dots) vs. \n",
    "# the location. If we just focus on the white dots between the box plots, NATAL had the lowest average time and SAO LUIS had \n",
    "# the highest. "
   ]
  },
  {
   "cell_type": "code",
   "execution_count": 51,
   "id": "b8f9baa0",
   "metadata": {},
   "outputs": [
    {
     "data": {
      "text/plain": [
       "<AxesSubplot:title={'center':'Range in number of days to close a claim per location'}, xlabel='Location', ylabel='Time to Close'>"
      ]
     },
     "execution_count": 51,
     "metadata": {},
     "output_type": "execute_result"
    },
    {
     "data": {
      "image/png": "[encoded data removed]",
      "text/plain": [
       "<Figure size 640x480 with 1 Axes>"
      ]
     },
     "metadata": {},
     "output_type": "display_data"
    }
   ],
   "source": [
    "# Let's see the new graph without outliers\n",
    "plt.title('Range in number of days to close a claim per location')\n",
    "sns.stripplot(data=claims, x=\"Location\", y=\"Time to Close\") "
   ]
  },
  {
   "cell_type": "code",
   "execution_count": 52,
   "id": "f5d0b56f",
   "metadata": {},
   "outputs": [
    {
     "data": {
      "image/png": "[encoded data removed]",
      "text/plain": [
       "<Figure size 640x480 with 1 Axes>"
      ]
     },
     "metadata": {},
     "output_type": "display_data"
    }
   ],
   "source": [
    "# Another way to see the new graph without outliers\n",
    "plt.title('Range in number of days to close a claim per location')\n",
    "sns.boxplot(data=claims, x=\"Location\", y=\"Time to Close\")\n",
    "sns.despine(offset=10, trim=True)"
   ]
  },
  {
   "cell_type": "code",
   "execution_count": 53,
   "id": "afdfb499",
   "metadata": {},
   "outputs": [
    {
     "data": {
      "text/plain": [
       "Location\n",
       "FORTALEZA    700.333333\n",
       "NATAL        581.142857\n",
       "RECIFE       860.680000\n",
       "SAO LUIS     898.407407\n",
       "Name: Time to Close, dtype: float64"
      ]
     },
     "execution_count": 53,
     "metadata": {},
     "output_type": "execute_result"
    }
   ],
   "source": [
    "# Let's just focus on the average time to close per location\n",
    "claims.groupby(['Location'])['Time to Close'].mean()"
   ]
  },
  {
   "cell_type": "code",
   "execution_count": 54,
   "id": "75fc1223",
   "metadata": {},
   "outputs": [
    {
     "data": {
      "text/plain": [
       "Text(0.5, 1.0, 'Average time to close claims per location')"
      ]
     },
     "execution_count": 54,
     "metadata": {},
     "output_type": "execute_result"
    },
    {
     "data": {
      "image/png": "[encoded data removed]",
      "text/plain": [
       "<Figure size 640x480 with 1 Axes>"
      ]
     },
     "metadata": {},
     "output_type": "display_data"
    }
   ],
   "source": [
    "# Display a boxplot with the mean values\n",
    "sns.boxplot(x='Location', y='Time to Close', data=claims, showmeans=True,\n",
    "            meanprops={\"marker\":\"o\",\"markerfacecolor\":\"white\",\"markeredgecolor\":\"black\",\"markersize\":\"8\"})\n",
    "plt.title('Average time to close claims per location')"
   ]
  },
  {
   "cell_type": "code",
   "execution_count": 55,
   "id": "f05e536f",
   "metadata": {},
   "outputs": [],
   "source": [
    "# Now, for a better visualization you can see the time frame will vary from state to state; NATAL took 581 days on average to \n",
    "# close a claim. FORTALEZA was followed, with 700 days on average. RECIFE and SAO LUIS were close with 860 and 898 days on \n",
    "# average respectively."
   ]
  },
  {
   "cell_type": "code",
   "execution_count": 56,
   "id": "734873da",
   "metadata": {},
   "outputs": [
    {
     "data": {
      "text/plain": [
       "Text(0, 0.5, 'Days')"
      ]
     },
     "execution_count": 56,
     "metadata": {},
     "output_type": "execute_result"
    },
    {
     "data": {
      "image/png": "[encoded data removed]",
      "text/plain": [
       "<Figure size 640x480 with 1 Axes>"
      ]
     },
     "metadata": {},
     "output_type": "display_data"
    }
   ],
   "source": [
    "sns.set_theme(style=\"ticks\")\n",
    "diamonds= sns.load_dataset(\"diamonds\")\n",
    "\n",
    "claims.groupby(['Location'])['Time to Close'].mean().plot(kind='line',legend='Reverse', rot=360)\n",
    "plt.title('Average time to close claims per location')\n",
    "plt.ylabel('Days')"
   ]
  },
  {
   "cell_type": "code",
   "execution_count": 57,
   "id": "653944fc",
   "metadata": {},
   "outputs": [],
   "source": [
    "# Based on all of the above, we would recommend to the new head of the legal team to focus on those remaining outliers because\n",
    "# those ones are causing a significant impact on the average time to close a claim but still further analysis should be done \n",
    "# to understand if there are other factors that are delaying the process across locations."
   ]
  }
 ],
 "metadata": {
  "kernelspec": {
   "display_name": "Python 3 (ipykernel)",
   "language": "python",
   "name": "python3"
  },
  "language_info": {
   "codemirror_mode": {
    "name": "ipython",
    "version": 3
   },
   "file_extension": ".py",
   "mimetype": "text/x-python",
   "name": "python",
   "nbconvert_exporter": "python",
   "pygments_lexer": "ipython3",
   "version": "3.9.13"
  }
 },
 "nbformat": 4,
 "nbformat_minor": 5
}
